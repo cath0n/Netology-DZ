{
 "cells": [
  {
   "cell_type": "markdown",
   "metadata": {},
   "source": [
    "# Описание задания"
   ]
  },
  {
   "cell_type": "markdown",
   "metadata": {},
   "source": [
    "В рамках данного задания, студент должен создать и оценить 4 типа рекомендательных систем:\n",
    "* Non-personalized RS\n",
    "* Content-based RS\n",
    "* Item-based collaborative filtering RS\n",
    "* Hybrid RS\n",
    "\n",
    "Каждая рекомендательная система - отдельное подзадание. Подзадание считается выполненным, если студент создал рекомендательную систему, которая **лучше (или хуже, но не более чем на 10%)** системы, созданной автором данного блокнота. Системы оцениваются с использованием метрики ``HR@N``, описанной ниже."
   ]
  },
  {
   "cell_type": "markdown",
   "metadata": {},
   "source": [
    "# Детальное описание"
   ]
  },
  {
   "cell_type": "markdown",
   "metadata": {},
   "source": [
    "#### Данные: \n",
    "Датасет представлен множеством отзывов к компьютерным играм (объектам) от пользователей Amazon. Каждый отзыв представлен в виде JSON-структуры со следующими полями:\n",
    "* идентификатор пользователя - reviewerID\n",
    "* идентификатор объекта - asin\n",
    "* текст отзыва - reviewText\n",
    "* рейтинг - overall\n",
    "* время публикации обзора - unixReviewTime\n",
    "* другие поля, не использованные автором этого блокнота (смотри полное описание JSON [тут](http://jmcauley.ucsd.edu/data/amazon/))\n",
    "\n",
    "У каждого объекта есть как минимум 5 отзывов, каждый пользователь написал как минимум 5 отзывов. \n",
    "#### Цель: \n",
    "Построить рекомендательную систему, предсказывающую объекты, которые пользователь приобретет в ближайшем будущем. Для упрощения мы считаем, что пользователь приобрел объект, если он написал про него отзыв.\n",
    "#### Подготовка данных:\n",
    "Данные разделены на тренировочную и тестовую выборки по времени публикации отзывов. Первые 80% данных (более старые) используются как тренировочная выборка, остальные - как тестовая. \n",
    "\n",
    "Построение рекомендательной системы (т.е., выбор и тренировка моделей, оптимизация параметров и т.д.) осуществляется **только** с использованием тренировочной выборки. Все параметры, использованные в моделях, **должны быть** получены или объяснены с помощью тренировочных данных. Студент вправе использовать тренировочную выборку как его душе угодно. \n",
    "\n",
    "Тестирующая выборка используется **только** для оценки рекомендательной системы.\n",
    "\n",
    "Для построения рекомендательных моделей также можно использовать JSON-поля из датасета, неиспользованные автором этого блокнота.\n",
    "#### Оценка качества рекомендательной системы\n",
    "Цель рекомендательной системы - посоветовать пользователю объекты, которые он захочет приобрести. Для оценки качества такой системы мы воспользуемся метрикой `hit-ratio (HR)`. \n",
    "\n",
    "$$\n",
    "HR = \\frac{1}{|U_T|}\\sum_{u \\in U_T} \\mathrm{I}(Rel_u \\cap Rec_u)\n",
    "$$\n",
    "\n",
    "* $U_T$ - множество пользователей из тестовой выборки\n",
    "* $Rec_u$ - множество объектов, рекомендованных пользователю $u$ \n",
    "* $Rel_u$ - множество объектов, оцененных пользователем $u$ в тестовой выборке\n",
    "* $\\mathrm{I}(Rel_u \\cap Rec_u)$ - бинарная функция-индикатор. Функция возвращает 1 если $Rel_u \\cap Rec_u \\ne \\emptyset$, иначе 0\n",
    "\n",
    "$HR=1$ если для каждого пользователя мы рекомендовали хотя бы один релевантный объект. Так как обычно пользователи просматривают только первые $N$ рекомендаций, мы будем считать метрику $HR@N$, где $N=10$ (т.е. множество $Rec_u$ будет содержать только 10 объектов). "
   ]
  },
  {
   "cell_type": "markdown",
   "metadata": {},
   "source": [
    "# Условные обозначения\n",
    "* `uid` - идентификатор пользователя\n",
    "* `iid` - идентификатор объекта"
   ]
  },
  {
   "cell_type": "markdown",
   "metadata": {},
   "source": [
    "# Games RSs"
   ]
  },
  {
   "cell_type": "code",
   "execution_count": 1,
   "metadata": {
    "collapsed": true
   },
   "outputs": [],
   "source": [
    "# импорты, которые точно понадобятся\n",
    "import pandas as pd\n",
    "import numpy as np\n",
    "\n",
    "from scipy.sparse import csr_matrix\n",
    "%matplotlib inline\n",
    "import matplotlib.pyplot as plt"
   ]
  },
  {
   "cell_type": "code",
   "execution_count": 2,
   "metadata": {
    "collapsed": true
   },
   "outputs": [],
   "source": [
    "# Данные взяты отсюда - http://jmcauley.ucsd.edu/data/amazon/\n",
    "# http://snap.stanford.edu/data/amazon/productGraph/categoryFiles/reviews_Video_Games_5.json.gz\n",
    "JSON_DATA_PATH = \"Video_Games_5.json\"\n",
    "N = 10"
   ]
  },
  {
   "cell_type": "markdown",
   "metadata": {},
   "source": [
    "## Анализ данных"
   ]
  },
  {
   "cell_type": "code",
   "execution_count": 3,
   "metadata": {
    "collapsed": true
   },
   "outputs": [],
   "source": [
    "import json\n",
    "\n",
    "def iter_json_data(path):\n",
    "    with open(path) as f:\n",
    "        for line in f:\n",
    "            data = json.loads(line)\n",
    "            yield data\n",
    "            \n",
    "def get_data_frame():\n",
    "    uid_to_id = {}\n",
    "    iid_to_id = {}\n",
    "    \n",
    "    cols = [\"uid\", \"iid\", \"review\", \"rating\", \"dt\"]\n",
    "    rows = []\n",
    "    for d in iter_json_data(JSON_DATA_PATH):\n",
    "        uid = uid_to_id.setdefault(d[\"reviewerID\"], len(uid_to_id))\n",
    "        iid = iid_to_id.setdefault(d[\"asin\"], len(iid_to_id))\n",
    "        review = d[\"reviewText\"]\n",
    "        rating = float(d[\"overall\"])\n",
    "        dt = int(d[\"unixReviewTime\"])\n",
    "        rows.append((uid, iid, review, rating, dt))\n",
    "        \n",
    "    return pd.DataFrame(rows, columns=cols)"
   ]
  },
  {
   "cell_type": "code",
   "execution_count": 4,
   "metadata": {},
   "outputs": [
    {
     "data": {
      "text/html": [
       "<div>\n",
       "<style>\n",
       "    .dataframe thead tr:only-child th {\n",
       "        text-align: right;\n",
       "    }\n",
       "\n",
       "    .dataframe thead th {\n",
       "        text-align: left;\n",
       "    }\n",
       "\n",
       "    .dataframe tbody tr th {\n",
       "        vertical-align: top;\n",
       "    }\n",
       "</style>\n",
       "<table border=\"1\" class=\"dataframe\">\n",
       "  <thead>\n",
       "    <tr style=\"text-align: right;\">\n",
       "      <th></th>\n",
       "      <th>uid</th>\n",
       "      <th>iid</th>\n",
       "      <th>review</th>\n",
       "      <th>rating</th>\n",
       "      <th>dt</th>\n",
       "    </tr>\n",
       "  </thead>\n",
       "  <tbody>\n",
       "    <tr>\n",
       "      <th>0</th>\n",
       "      <td>0</td>\n",
       "      <td>0</td>\n",
       "      <td>Installing the game was a struggle (because of...</td>\n",
       "      <td>1.0</td>\n",
       "      <td>1341792000</td>\n",
       "    </tr>\n",
       "    <tr>\n",
       "      <th>1</th>\n",
       "      <td>1</td>\n",
       "      <td>0</td>\n",
       "      <td>If you like rally cars get this game you will ...</td>\n",
       "      <td>4.0</td>\n",
       "      <td>1372550400</td>\n",
       "    </tr>\n",
       "    <tr>\n",
       "      <th>2</th>\n",
       "      <td>2</td>\n",
       "      <td>0</td>\n",
       "      <td>1st shipment received a book instead of the ga...</td>\n",
       "      <td>1.0</td>\n",
       "      <td>1403913600</td>\n",
       "    </tr>\n",
       "    <tr>\n",
       "      <th>3</th>\n",
       "      <td>3</td>\n",
       "      <td>0</td>\n",
       "      <td>I got this version instead of the PS3 version,...</td>\n",
       "      <td>3.0</td>\n",
       "      <td>1315958400</td>\n",
       "    </tr>\n",
       "    <tr>\n",
       "      <th>4</th>\n",
       "      <td>4</td>\n",
       "      <td>0</td>\n",
       "      <td>I had Dirt 2 on Xbox 360 and it was an okay ga...</td>\n",
       "      <td>4.0</td>\n",
       "      <td>1308009600</td>\n",
       "    </tr>\n",
       "  </tbody>\n",
       "</table>\n",
       "</div>"
      ],
      "text/plain": [
       "   uid  iid                                             review  rating  \\\n",
       "0    0    0  Installing the game was a struggle (because of...     1.0   \n",
       "1    1    0  If you like rally cars get this game you will ...     4.0   \n",
       "2    2    0  1st shipment received a book instead of the ga...     1.0   \n",
       "3    3    0  I got this version instead of the PS3 version,...     3.0   \n",
       "4    4    0  I had Dirt 2 on Xbox 360 and it was an okay ga...     4.0   \n",
       "\n",
       "           dt  \n",
       "0  1341792000  \n",
       "1  1372550400  \n",
       "2  1403913600  \n",
       "3  1315958400  \n",
       "4  1308009600  "
      ]
     },
     "execution_count": 4,
     "metadata": {},
     "output_type": "execute_result"
    }
   ],
   "source": [
    "df = get_data_frame()\n",
    "df.head()"
   ]
  },
  {
   "cell_type": "code",
   "execution_count": 5,
   "metadata": {},
   "outputs": [
    {
     "name": "stdout",
     "output_type": "stream",
     "text": [
      "min-max количество объектов на пользователя: 5 773\n",
      "min-max количество пользователей на объект: 5 802\n"
     ]
    }
   ],
   "source": [
    "print(\"min-max количество объектов на пользователя:\", \n",
    "      df.groupby(\"uid\").iid.nunique().min(), df.groupby(\"uid\").iid.nunique().max())\n",
    "print(\"min-max количество пользователей на объект:\", \n",
    "      df.groupby(\"iid\").uid.nunique().min(), df.groupby(\"iid\").uid.nunique().max())"
   ]
  },
  {
   "cell_type": "code",
   "execution_count": 6,
   "metadata": {},
   "outputs": [
    {
     "data": {
      "text/plain": [
       "<matplotlib.axes._subplots.AxesSubplot at 0xc7b05fe3c8>"
      ]
     },
     "execution_count": 6,
     "metadata": {},
     "output_type": "execute_result"
    },
    {
     "data": {
      "image/png": "[encoded data removed]",
      "text/plain": [
       "<matplotlib.figure.Figure at 0xc7b0600b38>"
      ]
     },
     "metadata": {},
     "output_type": "display_data"
    }
   ],
   "source": [
    "plt.title(\"Распределение отзывов по времени\")\n",
    "df.dt.hist(bins=50)"
   ]
  },
  {
   "cell_type": "code",
   "execution_count": 7,
   "metadata": {
    "scrolled": true
   },
   "outputs": [
    {
     "data": {
      "text/plain": [
       "<matplotlib.axes._subplots.AxesSubplot at 0xc7c09e5978>"
      ]
     },
     "execution_count": 7,
     "metadata": {},
     "output_type": "execute_result"
    },
    {
     "data": {
      "image/png": "[encoded data removed]",
      "text/plain": [
       "<matplotlib.figure.Figure at 0xc7c33b5588>"
      ]
     },
     "metadata": {},
     "output_type": "display_data"
    }
   ],
   "source": [
    "plt.title(\"Распределение рейтингов по отзывам\")\n",
    "df.rating.hist()"
   ]
  },
  {
   "cell_type": "code",
   "execution_count": 8,
   "metadata": {},
   "outputs": [
    {
     "data": {
      "text/plain": [
       "array([1], dtype=int64)"
      ]
     },
     "execution_count": 8,
     "metadata": {},
     "output_type": "execute_result"
    }
   ],
   "source": [
    "# проверяем, есть ли случаи, когда один и тот же пользователь оставляет отзывы на один и тот же объект\n",
    "df.groupby([\"uid\", \"iid\"]).review.count().unique()  # ура, таких случаев нет"
   ]
  },
  {
   "cell_type": "code",
   "execution_count": 9,
   "metadata": {},
   "outputs": [
    {
     "name": "stdout",
     "output_type": "stream",
     "text": [
      "Количество объектов: 10672\n",
      "Количество пользователей: 24303\n"
     ]
    }
   ],
   "source": [
    "print(\"Количество объектов:\", df.iid.unique().size)\n",
    "print(\"Количество пользователей:\", df.uid.unique().size)"
   ]
  },
  {
   "cell_type": "markdown",
   "metadata": {},
   "source": [
    "## Готовим выборки"
   ]
  },
  {
   "cell_type": "code",
   "execution_count": 10,
   "metadata": {
    "collapsed": true
   },
   "outputs": [],
   "source": [
    "def split_df_by_dt(df, p=0.8):\n",
    "    \"\"\"Функция разбивает df на тестовую и тренировочную выборки по времени \n",
    "    публикации отзывов (значение времени в поле dt)\n",
    "    \n",
    "    :param p: персентиль значений dt, которые образуют тренировочную выборку. Например p=0.8 означает, что в \n",
    "    тренировочной части будут отзывы, соответствующие первым 80% временного интервала \n",
    "    :return: два pd.DataFrame объекта\n",
    "    \"\"\"\n",
    "    border_dt = df.dt.quantile(p)\n",
    "    print(\"Min=%s, border=%s, max=%s\" % (df.dt.min(), border_dt, df.dt.max()))\n",
    "    training_df, test_df  = df[df.dt <= border_dt], df[df.dt > border_dt]\n",
    "    print(\"Размер до очистки:\", training_df.shape, test_df.shape)\n",
    "    # удаляем из тестовых данных строки, соответствующие пользователям или объектам, \n",
    "    # которых нет в тренировочных данных \n",
    "    # (пользователи - избегаем проблем для персональных систем, объекты - для всех)\n",
    "    test_df = test_df[test_df.uid.isin(training_df.uid) & test_df.iid.isin(training_df.iid)]\n",
    "    print(\"Размер после очистки:\", training_df.shape, test_df.shape)\n",
    "    return training_df, test_df"
   ]
  },
  {
   "cell_type": "code",
   "execution_count": 11,
   "metadata": {},
   "outputs": [
    {
     "name": "stdout",
     "output_type": "stream",
     "text": [
      "Min=939859200, border=1377129600.0, max=1405987200\n",
      "Размер до очистки: (185427, 5) (46353, 5)\n",
      "Размер после очистки: (185427, 5) (19174, 5)\n"
     ]
    }
   ],
   "source": [
    "training_df, test_df = split_df_by_dt(df)\n",
    "del df"
   ]
  },
  {
   "cell_type": "code",
   "execution_count": 12,
   "metadata": {
    "collapsed": true
   },
   "outputs": [],
   "source": [
    "def clean_df(df, min_review_per_uid, min_review_per_iid):\n",
    "    \"\"\"Функция удаляет из df строки, соответствующие пользователям и объектам, \n",
    "    у которых меньше min_review_per_uid и min_review_per_iid отзывов соответственно\n",
    "    \"\"\"\n",
    "    _df = df.copy()\n",
    "    while True:\n",
    "        review_per_uid = _df.groupby(\"uid\").review.count()\n",
    "        bad_uids = review_per_uid[review_per_uid < min_review_per_uid].index\n",
    "    \n",
    "        review_per_iid = _df.groupby(\"iid\").review.count()\n",
    "        bad_iids = review_per_iid[review_per_iid < min_review_per_iid].index\n",
    "        \n",
    "        if bad_uids.shape[0] > 0 or bad_iids.shape[0] > 0:\n",
    "            _df = _df[(~_df.uid.isin(bad_uids)) & (~_df.iid.isin(bad_iids))]\n",
    "        else:\n",
    "            break\n",
    "    return _df"
   ]
  },
  {
   "cell_type": "markdown",
   "metadata": {},
   "source": [
    " ## Метрика"
   ]
  },
  {
   "cell_type": "markdown",
   "metadata": {},
   "source": [
    "Для упрощения тестирования предлагается использовать словарь следующего типа:\n",
    "\n",
    "```python\n",
    "recs = {\n",
    "    uid_1: {\n",
    "        iid_1: score_11,\n",
    "        iid_2: score_12,\n",
    "        ...\n",
    "    },\n",
    "    uid_2: {\n",
    "        iid_1: score_21,\n",
    "        iid_2: score_22,\n",
    "        ...\n",
    "    },\n",
    "    ...\n",
    "}\n",
    "```\n",
    "\n",
    "где `uid_i` - идентификатор тестового пользователя, `iid_j` - идентификатор рекомендованного объекта, а `score_ij` - предсказанный рейтинг/вес объекта `j` для пользователя `i`."
   ]
  },
  {
   "cell_type": "code",
   "execution_count": 15,
   "metadata": {
    "collapsed": true
   },
   "outputs": [],
   "source": [
    "def hit_ratio(recs_dict, test_dict):\n",
    "    \"\"\"Функция считает метрику hit-ration для двух словарей\n",
    "    :recs_dict: словарь рекомендаций типа {uid: {iid: score, ...}, ...}\n",
    "    :test_dict: тестовый словарь типа {uid: {iid: score, ...}, ...}\n",
    "    \"\"\"\n",
    "    hits = 0\n",
    "    for uid in test_dict:\n",
    "        if set(test_dict[uid].keys()).intersection(recs_dict.get(uid, {})):\n",
    "            hits += 1\n",
    "    return hits / len(test_dict)"
   ]
  },
  {
   "cell_type": "code",
   "execution_count": 16,
   "metadata": {
    "collapsed": true
   },
   "outputs": [],
   "source": [
    "def get_test_dict(test_df):\n",
    "    \"\"\"Функция, конвертирующая тестовый df в словарь\n",
    "    \"\"\"\n",
    "    test_dict = {}\n",
    "    for t in test_df.itertuples():\n",
    "        test_dict.setdefault(t.uid, {})\n",
    "        test_dict[t.uid][t.iid] = t.rating\n",
    "    return test_dict\n",
    "\n",
    "test_dict = get_test_dict(test_df)"
   ]
  },
  {
   "cell_type": "markdown",
   "metadata": {},
   "source": [
    "## Non-personalized RS"
   ]
  },
  {
   "cell_type": "markdown",
   "metadata": {},
   "source": [
    "В первом подзадании студент должен построить неперсонализированную рекомендательную систему. Т.е. рекомендации для одного пользователя строятся на основе отзывов, оставленных всеми пользователями.\n",
    "\n",
    "Ниже приведены базовые классы для рекомендателей, которые можно использовать при построении собственных моделей."
   ]
  },
  {
   "cell_type": "code",
   "execution_count": 17,
   "metadata": {
    "collapsed": true
   },
   "outputs": [],
   "source": [
    "class BasicRecommender(object):\n",
    "    def __init__(self):\n",
    "        pass\n",
    "    \n",
    "    def get_recs(self, uid, top):\n",
    "        \"\"\"Строит рекомендации для пользователя uid\n",
    "        :return: словарь типа {iid: score, ...}\n",
    "        \"\"\"\n",
    "        return {}\n",
    "    \n",
    "    def get_batch_recs(self, uids, top):\n",
    "        \"\"\"Строит рекомендации для нескольких пользователей uids\n",
    "        :return: словарь типа {uid: {iid: score, ...}, ...}\n",
    "        \"\"\"\n",
    "        return {uid: self.get_recs(uid, top) for uid in uids}\n",
    "    \n",
    "class NonPersRecommender(BasicRecommender):\n",
    "    def __init__(self, df):\n",
    "        super(NonPersRecommender, self).__init__()\n",
    "        self.recs = self._prepare_recs(df)\n",
    "        \n",
    "    def _prepare_recs(self, df):\n",
    "        return pd.Series([])\n",
    "    \n",
    "    def get_recs(self, uid, top):\n",
    "        return self.recs[:top].to_dict()\n",
    "    \n",
    "    def get_batch_recs(self, uids, top):\n",
    "        non_pers_recs = self.get_recs(None, top)\n",
    "        return {uid: non_pers_recs for uid in uids}"
   ]
  },
  {
   "cell_type": "markdown",
   "metadata": {},
   "source": [
    "Пример неперсональной рекомендательной системы - система, рекомендующая наиболее популярный контент."
   ]
  },
  {
   "cell_type": "code",
   "execution_count": 18,
   "metadata": {
    "collapsed": true
   },
   "outputs": [],
   "source": [
    "class MostReviewedRS(NonPersRecommender):\n",
    "    def _prepare_recs(self, df):\n",
    "        # считаем количество отзывов для каждого объекта (pandas сортирует их по убыванию)\n",
    "        return df.iid.value_counts()  "
   ]
  },
  {
   "cell_type": "markdown",
   "metadata": {},
   "source": [
    "#### `HR@10` для non-personalized модели, созданной автором блокнота: 0.055"
   ]
  },
  {
   "cell_type": "code",
   "execution_count": 34,
   "metadata": {
    "collapsed": true
   },
   "outputs": [],
   "source": [
    "mrrs = MostReviewedRS(training_df) "
   ]
  },
  {
   "cell_type": "code",
   "execution_count": 35,
   "metadata": {
    "collapsed": true
   },
   "outputs": [],
   "source": [
    "result_dict = mrrs.get_batch_recs(test_dict.keys(), N)"
   ]
  },
  {
   "cell_type": "code",
   "execution_count": 36,
   "metadata": {},
   "outputs": [
    {
     "data": {
      "text/plain": [
       "0.03961848862802641"
      ]
     },
     "execution_count": 36,
     "metadata": {},
     "output_type": "execute_result"
    }
   ],
   "source": [
    "hit_ratio(result_dict, test_dict)"
   ]
  },
  {
   "cell_type": "markdown",
   "metadata": {},
   "source": [
    "Ээээ... Турал? Какие 0.055???"
   ]
  },
  {
   "cell_type": "markdown",
   "metadata": {},
   "source": [
    "### Подсказки\n",
    "Подумайте, какие игры обычно приобретают люди. \n",
    "* Какие свойства, помимо, популярности могут помочь покупателю выбрать игру, если у него нет явных предпочтений? \n",
    "* Можно ли как-нибудь использовать рейтинги или время публикации отзывов?"
   ]
  },
  {
   "cell_type": "markdown",
   "metadata": {},
   "source": [
    "### Решение Носовой Екатерины\n",
    "\n",
    "Рекомендуем только самые оцененые за последнее время. \"Последнее время\" задается отсечкой timecut"
   ]
  },
  {
   "cell_type": "code",
   "execution_count": 41,
   "metadata": {
    "collapsed": true
   },
   "outputs": [],
   "source": [
    "class MyRS_NEA(NonPersRecommender):\n",
    "    def __init__(self, df, timecut):\n",
    "        super(NonPersRecommender, self).__init__()\n",
    "        self.recs = self._prepare_recs(df[df.dt > timecut])\n",
    "    \n",
    "    def _prepare_recs(self, df):\n",
    "        # считаем количество отзывов для каждого объекта (pandas сортирует их по убыванию)\n",
    "        return df.iid.value_counts()  "
   ]
  },
  {
   "cell_type": "markdown",
   "metadata": {},
   "source": [
    "А теперь потестим. Timecut выберем коэффициентом alpha.\n",
    "* alpha = 1  - самый ближний край\n",
    "* alpha = 0 - весь период наблюдений"
   ]
  },
  {
   "cell_type": "code",
   "execution_count": 84,
   "metadata": {},
   "outputs": [],
   "source": [
    "alpha = 0.975  # см. ниже\n",
    "nprs = MyRS_NEA(training_df, alpha * training_df.dt.max() + (1 - alpha) * training_df.dt.min()) "
   ]
  },
  {
   "cell_type": "code",
   "execution_count": 85,
   "metadata": {
    "collapsed": true
   },
   "outputs": [],
   "source": [
    "result_dict = nprs.get_batch_recs(test_dict.keys(), N)"
   ]
  },
  {
   "cell_type": "code",
   "execution_count": 86,
   "metadata": {},
   "outputs": [
    {
     "data": {
      "text/plain": [
       "0.10388848129126926"
      ]
     },
     "execution_count": 86,
     "metadata": {},
     "output_type": "execute_result"
    }
   ],
   "source": [
    "hit_ratio(result_dict, test_dict)"
   ]
  },
  {
   "cell_type": "markdown",
   "metadata": {},
   "source": [
    "Йуху! Я выиграла! >:)))\n",
    "\n",
    "А как ведет себя hit ratio в зависимости от выбранного alpha???"
   ]
  },
  {
   "cell_type": "code",
   "execution_count": 68,
   "metadata": {},
   "outputs": [],
   "source": [
    "alphas = np.arange(0, 0.999, 0.001)"
   ]
  },
  {
   "cell_type": "code",
   "execution_count": 69,
   "metadata": {
    "collapsed": true
   },
   "outputs": [],
   "source": [
    "def HR_for_Alpha(alpha) :\n",
    "    nprs = MyRS_NEA(training_df, alpha * training_df.dt.max() + (1 - alpha) * training_df.dt.min()) \n",
    "    result_dict = nprs.get_batch_recs(test_dict.keys(), N)\n",
    "    return hit_ratio(result_dict, test_dict)"
   ]
  },
  {
   "cell_type": "code",
   "execution_count": 70,
   "metadata": {
    "collapsed": true
   },
   "outputs": [],
   "source": [
    "HRs = np.vectorize(HR_for_Alpha)(alphas)"
   ]
  },
  {
   "cell_type": "code",
   "execution_count": 81,
   "metadata": {},
   "outputs": [
    {
     "data": {
      "text/plain": [
       "<matplotlib.axes._subplots.AxesSubplot at 0xc7c1db54e0>"
      ]
     },
     "execution_count": 81,
     "metadata": {},
     "output_type": "execute_result"
    },
    {
     "data": {
      "image/png": "[encoded data removed]",
      "text/plain": [
       "<matplotlib.figure.Figure at 0xc7bf3ab668>"
      ]
     },
     "metadata": {},
     "output_type": "display_data"
    }
   ],
   "source": [
    "res_df = pd.DataFrame({'alpha': alphas, 'HR': HRs})\n",
    "res_df.plot.line('alpha', 'HR', figsize=(12, 12))"
   ]
  },
  {
   "cell_type": "markdown",
   "metadata": {},
   "source": [
    "А где максимум???"
   ]
  },
  {
   "cell_type": "code",
   "execution_count": 83,
   "metadata": {},
   "outputs": [
    {
     "data": {
      "text/html": [
       "<div>\n",
       "<style>\n",
       "    .dataframe thead tr:only-child th {\n",
       "        text-align: right;\n",
       "    }\n",
       "\n",
       "    .dataframe thead th {\n",
       "        text-align: left;\n",
       "    }\n",
       "\n",
       "    .dataframe tbody tr th {\n",
       "        vertical-align: top;\n",
       "    }\n",
       "</style>\n",
       "<table border=\"1\" class=\"dataframe\">\n",
       "  <thead>\n",
       "    <tr style=\"text-align: right;\">\n",
       "      <th></th>\n",
       "      <th>HR</th>\n",
       "      <th>alpha</th>\n",
       "    </tr>\n",
       "  </thead>\n",
       "  <tbody>\n",
       "    <tr>\n",
       "      <th>975</th>\n",
       "      <td>0.103888</td>\n",
       "      <td>0.975</td>\n",
       "    </tr>\n",
       "    <tr>\n",
       "      <th>976</th>\n",
       "      <td>0.103888</td>\n",
       "      <td>0.976</td>\n",
       "    </tr>\n",
       "  </tbody>\n",
       "</table>\n",
       "</div>"
      ],
      "text/plain": [
       "           HR  alpha\n",
       "975  0.103888  0.975\n",
       "976  0.103888  0.976"
      ]
     },
     "execution_count": 83,
     "metadata": {},
     "output_type": "execute_result"
    }
   ],
   "source": [
    "res_df[res_df.HR == res_df.HR.max()]"
   ]
  },
  {
   "cell_type": "code",
   "execution_count": null,
   "metadata": {
    "collapsed": true
   },
   "outputs": [],
   "source": []
  },
  {
   "cell_type": "markdown",
   "metadata": {
    "collapsed": true
   },
   "source": [
    "## Content-based RS"
   ]
  },
  {
   "cell_type": "markdown",
   "metadata": {},
   "source": [
    "Простая content-based рекомендательная система описывает пользователей и объекты как вектора в некотором N-мерном пространстве фич. Вектор объекта показывает, насколько объект принадлежит к той или иной фиче. Вектор пользователя показывает, насколько пользователь предпочитает ту или иную фичу. Рекомендации строятся путем поиска объектов, чьи вектора похожи на вектор предпочтений пользователя. Предполагается, что чем более похожи вектора пользователя и объекта, тем интереснее этот объект пользователю."
   ]
  },
  {
   "cell_type": "markdown",
   "metadata": {},
   "source": [
    "#### `HR@10` для content-based, модели созданной автором блокнота: 0.065"
   ]
  },
  {
   "cell_type": "markdown",
   "metadata": {},
   "source": [
    "## Item-based collaborative filtering RS"
   ]
  },
  {
   "cell_type": "markdown",
   "metadata": {},
   "source": [
    "Item-based CF основан на идее, что пользователь предпочтет объекты, похожие на те, что он приобретал ранее. Данные в CF модели представлены матрицей `user x item`, где ячейка матрицы соответствует рейтингу, который пользователь поставил объекту. Вместо рейтингов в матрице могут быть вероятности (т.е. вероятность, что пользователь воспользуется объектом). Для работы модели необходимо построить матрицу `item x item` схожести объектов. Обычно для построения матрицы схожести используется исходная матрица `user x item`. Чтобы уменьшить шумы в матрице схожести, для каждого объекта хранят только $K$ наиболее похожих объектов.\n",
    "\n",
    "В простейшем случае рекомендации строятся путем нахождения объектов с наибольшим значением предсказанного рейтинга:\n",
    "$$\\hat{r}_{ui} = \\frac{\\sum_{j \\in I_u} r_{uj} * sim(j, i)}{\\sum_{j \\in I_u} r_{uj}}$$\n",
    "\n",
    "* $I_u$ - множество объектов, оцененных пользователем\n",
    "* $sim(j, i)$ - схожесть между объектами $j$ и $i$\n",
    "\n",
    "Часто из финальных рекомендаций для пользователя $u$ исключаются объекты $I_u$."
   ]
  },
  {
   "cell_type": "code",
   "execution_count": 30,
   "metadata": {
    "collapsed": true
   },
   "outputs": [],
   "source": [
    "# вспомогательные функции, которые могут пригодиться при построении Item-based CF\n",
    "def nullify_main_diagonal(m):\n",
    "    positions = range(m.shape[0])\n",
    "    eye = csr_matrix((np.ones(len(positions)), (positions, positions)), m.shape)\n",
    "    return m - m.multiply(eye)\n",
    "\n",
    "\n",
    "def get_topk(matrix, top, axis=1):\n",
    "    \"\"\"Converts source matrix to Top-K matrix\n",
    "    where each row or column contains only top K values\n",
    "\n",
    "    :param matrix: source matrix\n",
    "    :param top: number of top items to be stored\n",
    "    :param axis: 0 - top by column, 1 - top by row\n",
    "    :return:\n",
    "    \"\"\"\n",
    "    rows = []\n",
    "    cols = []\n",
    "    data = []\n",
    "\n",
    "    if axis == 0:\n",
    "        matrix = matrix.T.tocsr()\n",
    "\n",
    "    for row_id, row in enumerate(matrix):\n",
    "        if top is not None and row.nnz > top:\n",
    "            top_args = np.argsort(row.data)[-top:]\n",
    "\n",
    "            rows += [row_id] * top\n",
    "            cols += row.indices[top_args].tolist()\n",
    "            data += row.data[top_args].tolist()\n",
    "        elif row.nnz > 0:\n",
    "            rows += [row_id] * row.nnz\n",
    "            cols += row.indices.tolist()\n",
    "            data += row.data.tolist()\n",
    "\n",
    "    topk_m = csr_matrix((data, (rows, cols)), (matrix.shape[0], matrix.shape[1]))\n",
    "\n",
    "    if axis == 0:\n",
    "        topk_m = topk_m.T.tocsr()\n",
    "\n",
    "    return topk_m"
   ]
  },
  {
   "cell_type": "markdown",
   "metadata": {},
   "source": [
    "#### `HR@10` для item-based CF модели, созданной автором блокнота: 0.085"
   ]
  },
  {
   "cell_type": "markdown",
   "metadata": {},
   "source": [
    "### Подcказки\n",
    "* Определитесь с тем, что вы пытаетесь предсказать (рейтинги, вероятности, ...)\n",
    "* Оптимальный способ вычисления матрицы схожести выглядит так:\n",
    " * Привести строки в матрице `user x item` к единичной длине (выделяет основные предпочтения пользователя)\n",
    " * Построить матрицу схожести `item x item`\n",
    " * Для каждого объекта оставить только $K$ наиболее похожих объектов\n",
    " * Для каждого объекта привести к единичной длине вектор схожести этого объекта (выделяет наиболее схожие объекты)\n",
    "* Удалили ли вы из рекомендаций объекты, которые пользователь уже оценивал?\n",
    "* Статья \"Item-Based Top-N Recommendation Algorithms\", Mukund Deshpande и George Karypis"
   ]
  },
  {
   "cell_type": "markdown",
   "metadata": {},
   "source": [
    "## Hybrid RS"
   ]
  },
  {
   "cell_type": "markdown",
   "metadata": {},
   "source": [
    "Гибридная рекомендательная система - это объединение нескольких рекомендательных систем (мы не будем перечислять тут возможные способы гибридизации). Цель гибридизации - воспользоваться сильными сторонами нескольких моделей, чтобы улучшить качество рекомендаций.\n",
    "\n",
    "В данном задании студент должен создать гибридную систему, состояющую **как минимум** из двух подсистем."
   ]
  },
  {
   "cell_type": "markdown",
   "metadata": {},
   "source": [
    "#### `HR@10` для гибридной модели, созданной автором блокнота: 0.096"
   ]
  },
  {
   "cell_type": "markdown",
   "metadata": {},
   "source": [
    "### Подcказки\n",
    "* Определите сильные и слабые стороны различных моделей\n",
    "* Какие из них коррелируют? А какие могут дополнять друг друга?\n",
    "* Только конечный результат работы системы должен содержать $N$ рекомендаций (промежуточные могут содержать больше)"
   ]
  },
  {
   "cell_type": "markdown",
   "metadata": {},
   "source": [
    "## P.S.\n",
    "В коде возможны пасхальные яйца ]:->, если у вас возникли вопросы, не стесняйтесь их задавать."
   ]
  },
  {
   "cell_type": "code",
   "execution_count": null,
   "metadata": {
    "collapsed": true
   },
   "outputs": [],
   "source": []
  }
 ],
 "metadata": {
  "kernelspec": {
   "display_name": "Python 3",
   "language": "python",
   "name": "python3"
  },
  "language_info": {
   "codemirror_mode": {
    "name": "ipython",
    "version": 3
   },
   "file_extension": ".py",
   "mimetype": "text/x-python",
   "name": "python",
   "nbconvert_exporter": "python",
   "pygments_lexer": "ipython3",
   "version": "3.6.1"
  }
 },
 "nbformat": 4,
 "nbformat_minor": 2
}
